{
  "nbformat": 4,
  "nbformat_minor": 0,
  "metadata": {
    "colab": {
      "name": "6998_Project_CNN.ipynb",
      "provenance": [],
      "collapsed_sections": []
    },
    "kernelspec": {
      "name": "python3",
      "display_name": "Python 3"
    },
    "language_info": {
      "name": "python"
    },
    "accelerator": "GPU"
  },
  "cells": [
    {
      "cell_type": "code",
      "execution_count": null,
      "metadata": {
        "id": "ogPe4ELH0yXP"
      },
      "outputs": [],
      "source": [
        "#imports\n",
        "import pandas as pd\n",
        "import os\n",
        "import numpy as np\n",
        "import random\n",
        "from tensorflow import keras\n",
        "from tensorflow.keras import Input\n",
        "from tensorflow.keras.models import Sequential\n",
        "from tensorflow.keras.layers import Conv2D, MaxPooling2D, Dense, Dropout, Flatten \n",
        "from tensorflow.keras.layers import BatchNormalization, AveragePooling2D \n",
        "from tensorflow.keras import backend as K\n",
        "from tensorflow.keras.optimizers import SGD\n",
        "from tensorflow.keras.callbacks import EarlyStopping\n"
      ]
    },
    {
      "cell_type": "code",
      "source": [
        "#load and transform data\n",
        "data_path = '/content/data_v2.csv'\n",
        "df = pd.read_csv(data_path)\n",
        "num_rows = df.shape[0]\n",
        "print(df)\n"
      ],
      "metadata": {
        "colab": {
          "base_uri": "https://localhost:8080/"
        },
        "id": "rPpKf6h22NS1",
        "outputId": "9f357e8f-6290-47cb-ab59-41c17624af1c"
      },
      "execution_count": null,
      "outputs": [
        {
          "output_type": "stream",
          "name": "stdout",
          "text": [
            "     Date(UTC)  UnixTimeStamp  Difficulty  BlockSize  TxFeeUSD   PriceBtcUsd  \\\n",
            "0       8/7/15     1438905600       1.471        633      0.05    278.740997   \n",
            "1       8/8/15     1438992000       1.586        668      0.02    279.742004   \n",
            "2       8/9/15     1439078400       1.709        618      0.01    261.115997   \n",
            "3      8/10/15     1439164800       1.838        631      0.01    265.477997   \n",
            "4      8/11/15     1439251200       2.036        692      0.00    264.342010   \n",
            "...        ...            ...         ...        ...       ...           ...   \n",
            "2456   4/28/22     1651104000   13348.834      90735      2.33  39241.429690   \n",
            "2457   4/29/22     1651190400   13317.627      88751      1.94  39768.617190   \n",
            "2458   4/30/22     1651276800   13622.983      85276      1.46  38605.859380   \n",
            "2459    5/1/22     1651363200   13826.536      87744     24.54  37713.265630   \n",
            "2460    5/2/22     1651449600   13770.496      86346      1.80  38472.187500   \n",
            "\n",
            "      ERC20Transfer  ERC20Addr  GtrendsEth    Gold    SP500  TickerRIOT  \\\n",
            "0                 0          0           0  1094.1  2082.61      3.1288   \n",
            "1                 0          0           0  1104.1  2080.98      3.2000   \n",
            "2                 0          0           0  1104.1  2080.98      3.2000   \n",
            "3                 0          0           0  1104.1  2080.98      3.2000   \n",
            "4                 0          0           0  1107.7  2102.66      3.2800   \n",
            "...             ...        ...         ...     ...      ...         ...   \n",
            "2456         639161     201268          19  1891.3  4222.58     10.9400   \n",
            "2457         704970     226226          19  1911.7  4253.75     10.1400   \n",
            "2458         702661     221160          19  1863.6  4130.61     10.9700   \n",
            "2459         530086     198857          19  1863.6  4130.61     10.9700   \n",
            "2460         554661     202056          19  1863.6  4130.61     10.9700   \n",
            "\n",
            "      TickerMSTR  PriceEthUsd  \n",
            "0         215.61         2.77  \n",
            "1         218.85         0.81  \n",
            "2         218.85         0.74  \n",
            "3         218.85         0.68  \n",
            "4         215.41         1.06  \n",
            "...          ...          ...  \n",
            "2456      400.49      2936.49  \n",
            "2457      354.17      2817.23  \n",
            "2458      365.91      2727.87  \n",
            "2459      365.91      2826.04  \n",
            "2460      365.91      2856.12  \n",
            "\n",
            "[2461 rows x 14 columns]\n"
          ]
        }
      ]
    },
    {
      "cell_type": "code",
      "source": [
        "#Add column for each row indicating whether row + 1 is higher/lower: \n",
        "num_cols = len(df.columns) - 1\n",
        "df['PriceEth_next_day'] = 0 # column 6\n",
        "df['Increased'] = 1 #column 7\n",
        "for i in range(0, num_rows - 1):\n",
        "  curr_Price = df.iat[i,num_cols] #eth price in last column:\n",
        "  next_day_price = df.iat[i+1,num_cols]\n",
        "  df.iloc[i,num_cols+1] = next_day_price\n",
        "  df.iloc[i,num_cols+2] = 1 if next_day_price > curr_Price else 0\n",
        "\n",
        "\n",
        "#drop last day in csv since we have no comparison about price increase/decrease\n",
        "df.drop(df.tail(1).index,inplace=True)\n"
      ],
      "metadata": {
        "id": "yH3b0WJHIbMA"
      },
      "execution_count": null,
      "outputs": []
    },
    {
      "cell_type": "code",
      "source": [
        "print(df)"
      ],
      "metadata": {
        "colab": {
          "base_uri": "https://localhost:8080/"
        },
        "id": "zbSLAASEMdth",
        "outputId": "602ce388-df2c-434c-c82f-3f1e44619c22"
      },
      "execution_count": null,
      "outputs": [
        {
          "output_type": "stream",
          "name": "stdout",
          "text": [
            "     Date(UTC)  UnixTimeStamp  Difficulty  BlockSize  TxFeeUSD   PriceBtcUsd  \\\n",
            "0       8/7/15     1438905600       1.471        633      0.05    278.740997   \n",
            "1       8/8/15     1438992000       1.586        668      0.02    279.742004   \n",
            "2       8/9/15     1439078400       1.709        618      0.01    261.115997   \n",
            "3      8/10/15     1439164800       1.838        631      0.01    265.477997   \n",
            "4      8/11/15     1439251200       2.036        692      0.00    264.342010   \n",
            "...        ...            ...         ...        ...       ...           ...   \n",
            "2455   4/27/22     1651017600   13204.400      97534      2.31  38120.300780   \n",
            "2456   4/28/22     1651104000   13348.834      90735      2.33  39241.429690   \n",
            "2457   4/29/22     1651190400   13317.627      88751      1.94  39768.617190   \n",
            "2458   4/30/22     1651276800   13622.983      85276      1.46  38605.859380   \n",
            "2459    5/1/22     1651363200   13826.536      87744     24.54  37713.265630   \n",
            "\n",
            "      ERC20Transfer  ERC20Addr  GtrendsEth    Gold    SP500  TickerRIOT  \\\n",
            "0                 0          0           0  1094.1  2082.61      3.1288   \n",
            "1                 0          0           0  1104.1  2080.98      3.2000   \n",
            "2                 0          0           0  1104.1  2080.98      3.2000   \n",
            "3                 0          0           0  1104.1  2080.98      3.2000   \n",
            "4                 0          0           0  1107.7  2102.66      3.2800   \n",
            "...             ...        ...         ...     ...      ...         ...   \n",
            "2455         596398     193028          19  1888.7  4186.52     10.9800   \n",
            "2456         639161     201268          19  1891.3  4222.58     10.9400   \n",
            "2457         704970     226226          19  1911.7  4253.75     10.1400   \n",
            "2458         702661     221160          19  1863.6  4130.61     10.9700   \n",
            "2459         530086     198857          19  1863.6  4130.61     10.9700   \n",
            "\n",
            "      TickerMSTR  PriceEthUsd  PriceEth_next_day  Increased  \n",
            "0         215.61         2.77               0.81          0  \n",
            "1         218.85         0.81               0.74          0  \n",
            "2         218.85         0.74               0.68          0  \n",
            "3         218.85         0.68               1.06          1  \n",
            "4         215.41         1.06               1.25          1  \n",
            "...          ...          ...                ...        ...  \n",
            "2455      385.78      2889.72            2936.49          1  \n",
            "2456      400.49      2936.49            2817.23          0  \n",
            "2457      354.17      2817.23            2727.87          0  \n",
            "2458      365.91      2727.87            2826.04          1  \n",
            "2459      365.91      2826.04            2856.12          1  \n",
            "\n",
            "[2460 rows x 16 columns]\n"
          ]
        }
      ]
    },
    {
      "cell_type": "code",
      "source": [
        "#Global Variables\n",
        "\n",
        "m = 10\n",
        "batch_size = 64\n",
        "epochs = 100\n"
      ],
      "metadata": {
        "id": "nKxe1ZZV7HSS"
      },
      "execution_count": null,
      "outputs": []
    },
    {
      "cell_type": "code",
      "source": [
        "#split into test, train \n",
        "\n",
        "#reminder, do not split randomly !! Split based on date\n",
        "\n",
        "index_of_last_train_example = int(num_rows * 0.6)\n",
        "index_of_first_train_example2 = int(num_rows *0.8)\n",
        "\n",
        "\n",
        "#drop next_day price (saved in df in case we run regression)\n",
        "df = df.drop('PriceEth_next_day', 1)\n",
        "df = df.drop('Date(UTC)', 1)\n",
        "df = df.drop('UnixTimeStamp', 1)\n",
        "\n",
        "#normalize: \n",
        "for column in df:\n",
        "    if column not in ['Increased', 'ERC20Transfer', 'ERC20Addr','GtrendsEth']:\n",
        "      df[column] = (df[column] / df[column][0]) - 1\n"
      ],
      "metadata": {
        "colab": {
          "base_uri": "https://localhost:8080/"
        },
        "id": "rPljjqof3OkN",
        "outputId": "ff8c8fbb-f338-4337-de6c-3be2fae7b725"
      },
      "execution_count": null,
      "outputs": [
        {
          "output_type": "stream",
          "name": "stderr",
          "text": [
            "/usr/local/lib/python3.7/dist-packages/ipykernel_launcher.py:10: FutureWarning: In a future version of pandas all arguments of DataFrame.drop except for the argument 'labels' will be keyword-only\n",
            "  # Remove the CWD from sys.path while we load stuff.\n",
            "/usr/local/lib/python3.7/dist-packages/ipykernel_launcher.py:11: FutureWarning: In a future version of pandas all arguments of DataFrame.drop except for the argument 'labels' will be keyword-only\n",
            "  # This is added back by InteractiveShellApp.init_path()\n",
            "/usr/local/lib/python3.7/dist-packages/ipykernel_launcher.py:12: FutureWarning: In a future version of pandas all arguments of DataFrame.drop except for the argument 'labels' will be keyword-only\n",
            "  if sys.path[0] == '':\n"
          ]
        }
      ]
    },
    {
      "cell_type": "code",
      "source": [
        "print(df)"
      ],
      "metadata": {
        "colab": {
          "base_uri": "https://localhost:8080/"
        },
        "id": "JF3RDmBV3ZDH",
        "outputId": "7cdd99d9-f5be-4192-ca63-dae246ffc2dc"
      },
      "execution_count": null,
      "outputs": [
        {
          "output_type": "stream",
          "name": "stdout",
          "text": [
            "       Difficulty   BlockSize  TxFeeUSD  PriceBtcUsd  ERC20Transfer  \\\n",
            "0        0.000000    0.000000       0.0     0.000000              0   \n",
            "1        0.078178    0.055292      -0.6     0.003591              0   \n",
            "2        0.161795   -0.023697      -0.8    -0.063231              0   \n",
            "3        0.249490   -0.003160      -0.8    -0.047582              0   \n",
            "4        0.384092    0.093207      -1.0    -0.051657              0   \n",
            "...           ...         ...       ...          ...            ...   \n",
            "2455  8975.478586  153.082148      45.2   135.758859         596398   \n",
            "2456  9073.666213  142.341232      45.6   139.780976         639161   \n",
            "2457  9052.451394  139.206951      37.8   141.672293         704970   \n",
            "2458  9260.035350  133.717220      28.2   137.500830         702661   \n",
            "2459  9398.412644  137.616114     489.8   134.298596         530086   \n",
            "\n",
            "      ERC20Addr  GtrendsEth      Gold     SP500  TickerRIOT  TickerMSTR  \\\n",
            "0             0           0  0.000000  0.000000    0.000000    0.000000   \n",
            "1             0           0  0.009140 -0.000783    0.022756    0.015027   \n",
            "2             0           0  0.009140 -0.000783    0.022756    0.015027   \n",
            "3             0           0  0.009140 -0.000783    0.022756    0.015027   \n",
            "4             0           0  0.012430  0.009627    0.048325   -0.000928   \n",
            "...         ...         ...       ...       ...         ...         ...   \n",
            "2455     193028          19  0.726259  1.010228    2.509333    0.789249   \n",
            "2456     201268          19  0.728635  1.027542    2.496548    0.857474   \n",
            "2457     226226          19  0.747281  1.042509    2.240859    0.642642   \n",
            "2458     221160          19  0.703318  0.983381    2.506137    0.697092   \n",
            "2459     198857          19  0.703318  0.983381    2.506137    0.697092   \n",
            "\n",
            "      PriceEthUsd  Increased  \n",
            "0        0.000000          0  \n",
            "1       -0.707581          0  \n",
            "2       -0.732852          0  \n",
            "3       -0.754513          1  \n",
            "4       -0.617329          1  \n",
            "...           ...        ...  \n",
            "2455  1042.220217          1  \n",
            "2456  1059.104693          0  \n",
            "2457  1016.050542          0  \n",
            "2458   983.790614          1  \n",
            "2459  1019.231047          1  \n",
            "\n",
            "[2460 rows x 13 columns]\n"
          ]
        }
      ]
    },
    {
      "cell_type": "code",
      "source": [
        "print(df.groupby(['Increased']).count())\n",
        "\n",
        "#dataset is relatively balanced! 1216 vs 1244"
      ],
      "metadata": {
        "colab": {
          "base_uri": "https://localhost:8080/"
        },
        "id": "yZXS87-1WOh4",
        "outputId": "6fd0eb83-648e-42bb-f493-184d9d33b1f1"
      },
      "execution_count": null,
      "outputs": [
        {
          "output_type": "stream",
          "name": "stdout",
          "text": [
            "           Difficulty  BlockSize  TxFeeUSD  PriceBtcUsd  ERC20Transfer  \\\n",
            "Increased                                                                \n",
            "0                1216       1216      1216         1216           1216   \n",
            "1                1244       1244      1244         1244           1244   \n",
            "\n",
            "           ERC20Addr  GtrendsEth  Gold  SP500  TickerRIOT  TickerMSTR  \\\n",
            "Increased                                                               \n",
            "0               1216        1216  1216   1216        1216        1216   \n",
            "1               1244        1244  1244   1244        1244        1244   \n",
            "\n",
            "           PriceEthUsd  \n",
            "Increased               \n",
            "0                 1216  \n",
            "1                 1244  \n"
          ]
        }
      ]
    },
    {
      "cell_type": "code",
      "source": [
        "#Create sequences, convert to numpy (training)\n",
        "\n",
        "train_values_arr = []\n",
        "train_values_y = []\n",
        "\n",
        "#create sequences of size m\n",
        "\n",
        "for i in range(0, index_of_last_train_example - m): \n",
        "  sequence_indices = range(i, i+m)\n",
        "  sequence = df.iloc[sequence_indices]\n",
        "  sequence = sequence.drop('Increased', 1)\n",
        "  seq_as_numpy = sequence.to_numpy()\n",
        "\n",
        "  train_values_arr.append(seq_as_numpy)\n",
        "\n",
        "  #Get y value for this sequence\n",
        "  m_val_for_seq = int(df.iloc[i+m]['Increased'])\n",
        "  train_values_y.append(m_val_for_seq)\n",
        "\n",
        "\n",
        "for i in range(index_of_first_train_example2, len(df.index) - m): \n",
        "  sequence_indices = range(i, i+m)\n",
        "  sequence = df.iloc[sequence_indices]\n",
        "  sequence = sequence.drop('Increased', 1)\n",
        "  seq_as_numpy = sequence.to_numpy()\n",
        "\n",
        "  train_values_arr.append(seq_as_numpy)\n",
        "\n",
        "  #Get y value for this sequence\n",
        "  m_val_for_seq = int(df.iloc[i+m]['Increased'])\n",
        "  train_values_y.append(m_val_for_seq)\n",
        "\n",
        "train_x_np = np.array(train_values_arr)\n",
        "train_y_np = np.array(train_values_y)\n",
        "\n",
        "num_features = len(df.columns)"
      ],
      "metadata": {
        "id": "p3vxC2zmQykx",
        "colab": {
          "base_uri": "https://localhost:8080/"
        },
        "outputId": "b93f0360-b53d-4e81-d710-7ede3ef98597"
      },
      "execution_count": null,
      "outputs": [
        {
          "output_type": "stream",
          "name": "stderr",
          "text": [
            "/usr/local/lib/python3.7/dist-packages/ipykernel_launcher.py:11: FutureWarning: In a future version of pandas all arguments of DataFrame.drop except for the argument 'labels' will be keyword-only\n",
            "  # This is added back by InteractiveShellApp.init_path()\n",
            "/usr/local/lib/python3.7/dist-packages/ipykernel_launcher.py:24: FutureWarning: In a future version of pandas all arguments of DataFrame.drop except for the argument 'labels' will be keyword-only\n"
          ]
        }
      ]
    },
    {
      "cell_type": "code",
      "source": [
        "test_values_arr = []\n",
        "test_values_y = []\n",
        "test_buy = 0\n",
        "#create sequences of size m\n",
        "\n",
        "for i in range(index_of_last_train_example, index_of_first_train_example2): \n",
        "  sequence_indices = range(i, i+m)\n",
        "  sequence = df.iloc[sequence_indices]\n",
        "  sequence = sequence.drop('Increased', 1)\n",
        "  seq_as_numpy = sequence.to_numpy()\n",
        "\n",
        "  test_values_arr.append(seq_as_numpy)\n",
        "\n",
        "  #Get y value for this sequence\n",
        "  m_val_for_seq = int(df.iloc[i+m]['Increased'])\n",
        "  if m_val_for_seq == 1: \n",
        "    test_buy = test_buy + 1\n",
        "\n",
        "  test_values_y.append(m_val_for_seq)\n",
        "\n",
        "test_x_np = np.array(test_values_arr)\n",
        "test_y_np = np.array(test_values_y)\n",
        "\n",
        "num_features = len(df.columns)"
      ],
      "metadata": {
        "colab": {
          "base_uri": "https://localhost:8080/"
        },
        "id": "eFPYQBQZyqkC",
        "outputId": "f602def2-c267-4ee8-e0e9-694c57c06cdd"
      },
      "execution_count": null,
      "outputs": [
        {
          "output_type": "stream",
          "name": "stderr",
          "text": [
            "/usr/local/lib/python3.7/dist-packages/ipykernel_launcher.py:9: FutureWarning: In a future version of pandas all arguments of DataFrame.drop except for the argument 'labels' will be keyword-only\n",
            "  if __name__ == '__main__':\n"
          ]
        }
      ]
    },
    {
      "cell_type": "code",
      "source": [
        "#Part 2 \n",
        "\n",
        "#DNN:\n",
        "model = Sequential()\n",
        "model.add(Flatten(input_shape=(m, num_features - 1, 1)))\n",
        "model.add(Dense(8*m , activation='relu'))\n",
        "model.add(Dense(8*m, activation='relu'))\n",
        "model.add(Dense(1, activation='sigmoid'))\n",
        "model.compile(loss='binary_crossentropy', optimizer='adam', metrics=['accuracy'])\n",
        "\n"
      ],
      "metadata": {
        "id": "BjUeyAoY2ymX"
      },
      "execution_count": null,
      "outputs": []
    },
    {
      "cell_type": "code",
      "source": [
        "hist = model.fit(train_x_np, train_y_np, epochs=epochs, batch_size=batch_size, validation_data=[test_x_np,test_y_np])"
      ],
      "metadata": {
        "colab": {
          "base_uri": "https://localhost:8080/"
        },
        "id": "gfmZ_lIeZzHa",
        "outputId": "47f16e4d-7206-442a-ff13-56d1167a1887"
      },
      "execution_count": null,
      "outputs": [
        {
          "output_type": "stream",
          "name": "stdout",
          "text": [
            "Epoch 1/100\n",
            "31/31 [==============================] - 9s 14ms/step - loss: 5431.3896 - accuracy: 0.4897 - val_loss: 5888.8091 - val_accuracy: 0.5346\n",
            "Epoch 2/100\n",
            "31/31 [==============================] - 0s 5ms/step - loss: 1621.7089 - accuracy: 0.5241 - val_loss: 1138.8070 - val_accuracy: 0.5325\n",
            "Epoch 3/100\n",
            "31/31 [==============================] - 0s 4ms/step - loss: 1295.0223 - accuracy: 0.5216 - val_loss: 2484.2566 - val_accuracy: 0.4654\n",
            "Epoch 4/100\n",
            "31/31 [==============================] - 0s 4ms/step - loss: 1280.6552 - accuracy: 0.5257 - val_loss: 4059.0898 - val_accuracy: 0.4634\n",
            "Epoch 5/100\n",
            "31/31 [==============================] - 0s 4ms/step - loss: 931.8914 - accuracy: 0.5257 - val_loss: 2116.0042 - val_accuracy: 0.4654\n",
            "Epoch 6/100\n",
            "31/31 [==============================] - 0s 4ms/step - loss: 1406.7480 - accuracy: 0.5349 - val_loss: 1195.0490 - val_accuracy: 0.5325\n",
            "Epoch 7/100\n",
            "31/31 [==============================] - 0s 4ms/step - loss: 707.5115 - accuracy: 0.5411 - val_loss: 566.2123 - val_accuracy: 0.4593\n",
            "Epoch 8/100\n",
            "31/31 [==============================] - 0s 4ms/step - loss: 652.3902 - accuracy: 0.5236 - val_loss: 3201.9172 - val_accuracy: 0.5366\n",
            "Epoch 9/100\n",
            "31/31 [==============================] - 0s 4ms/step - loss: 1585.3365 - accuracy: 0.5118 - val_loss: 2372.0908 - val_accuracy: 0.4715\n",
            "Epoch 10/100\n",
            "31/31 [==============================] - 0s 4ms/step - loss: 1699.1489 - accuracy: 0.5190 - val_loss: 2150.8726 - val_accuracy: 0.5285\n",
            "Epoch 11/100\n",
            "31/31 [==============================] - 0s 4ms/step - loss: 646.2797 - accuracy: 0.5488 - val_loss: 442.6339 - val_accuracy: 0.5041\n",
            "Epoch 12/100\n",
            "31/31 [==============================] - 0s 4ms/step - loss: 467.0191 - accuracy: 0.5262 - val_loss: 436.9385 - val_accuracy: 0.4736\n",
            "Epoch 13/100\n",
            "31/31 [==============================] - 0s 4ms/step - loss: 469.0279 - accuracy: 0.5359 - val_loss: 1212.1572 - val_accuracy: 0.5386\n",
            "Epoch 14/100\n",
            "31/31 [==============================] - 0s 4ms/step - loss: 435.9286 - accuracy: 0.5370 - val_loss: 343.2800 - val_accuracy: 0.5467\n",
            "Epoch 15/100\n",
            "31/31 [==============================] - 0s 4ms/step - loss: 399.8258 - accuracy: 0.5421 - val_loss: 309.8678 - val_accuracy: 0.4654\n",
            "Epoch 16/100\n",
            "31/31 [==============================] - 0s 4ms/step - loss: 674.5073 - accuracy: 0.5411 - val_loss: 406.8878 - val_accuracy: 0.5508\n",
            "Epoch 17/100\n",
            "31/31 [==============================] - 0s 4ms/step - loss: 235.1071 - accuracy: 0.5498 - val_loss: 800.0997 - val_accuracy: 0.4654\n",
            "Epoch 18/100\n",
            "31/31 [==============================] - 0s 4ms/step - loss: 290.0268 - accuracy: 0.5554 - val_loss: 1109.8643 - val_accuracy: 0.5346\n",
            "Epoch 19/100\n",
            "31/31 [==============================] - 0s 6ms/step - loss: 427.9642 - accuracy: 0.5524 - val_loss: 851.2625 - val_accuracy: 0.5325\n",
            "Epoch 20/100\n",
            "31/31 [==============================] - 0s 4ms/step - loss: 543.2045 - accuracy: 0.5385 - val_loss: 290.1228 - val_accuracy: 0.5183\n",
            "Epoch 21/100\n",
            "31/31 [==============================] - 0s 4ms/step - loss: 266.3822 - accuracy: 0.5282 - val_loss: 397.9504 - val_accuracy: 0.5224\n",
            "Epoch 22/100\n",
            "31/31 [==============================] - 0s 4ms/step - loss: 294.5034 - accuracy: 0.5539 - val_loss: 250.1111 - val_accuracy: 0.5122\n",
            "Epoch 23/100\n",
            "31/31 [==============================] - 0s 4ms/step - loss: 278.7076 - accuracy: 0.5631 - val_loss: 515.9185 - val_accuracy: 0.5305\n",
            "Epoch 24/100\n",
            "31/31 [==============================] - 0s 4ms/step - loss: 1341.6061 - accuracy: 0.5339 - val_loss: 919.8823 - val_accuracy: 0.4715\n",
            "Epoch 25/100\n",
            "31/31 [==============================] - 0s 4ms/step - loss: 490.7200 - accuracy: 0.5431 - val_loss: 371.6992 - val_accuracy: 0.5447\n",
            "Epoch 26/100\n",
            "31/31 [==============================] - 0s 4ms/step - loss: 388.0771 - accuracy: 0.5364 - val_loss: 1862.8573 - val_accuracy: 0.5407\n",
            "Epoch 27/100\n",
            "31/31 [==============================] - 0s 4ms/step - loss: 313.4800 - accuracy: 0.5503 - val_loss: 386.4991 - val_accuracy: 0.5671\n",
            "Epoch 28/100\n",
            "31/31 [==============================] - 0s 4ms/step - loss: 308.1557 - accuracy: 0.5406 - val_loss: 1382.8901 - val_accuracy: 0.4634\n",
            "Epoch 29/100\n",
            "31/31 [==============================] - 0s 4ms/step - loss: 331.4326 - accuracy: 0.5349 - val_loss: 651.4295 - val_accuracy: 0.5488\n",
            "Epoch 30/100\n",
            "31/31 [==============================] - 0s 4ms/step - loss: 318.6823 - accuracy: 0.5493 - val_loss: 1605.4451 - val_accuracy: 0.5366\n",
            "Epoch 31/100\n",
            "31/31 [==============================] - 0s 4ms/step - loss: 183.0629 - accuracy: 0.5878 - val_loss: 469.2569 - val_accuracy: 0.5427\n",
            "Epoch 32/100\n",
            "31/31 [==============================] - 0s 4ms/step - loss: 182.4845 - accuracy: 0.5703 - val_loss: 259.5972 - val_accuracy: 0.5407\n",
            "Epoch 33/100\n",
            "31/31 [==============================] - 0s 4ms/step - loss: 208.9624 - accuracy: 0.5452 - val_loss: 433.9443 - val_accuracy: 0.4634\n",
            "Epoch 34/100\n",
            "31/31 [==============================] - 0s 4ms/step - loss: 326.1568 - accuracy: 0.5611 - val_loss: 806.4651 - val_accuracy: 0.4654\n",
            "Epoch 35/100\n",
            "31/31 [==============================] - 0s 4ms/step - loss: 182.7104 - accuracy: 0.5631 - val_loss: 225.7002 - val_accuracy: 0.5508\n",
            "Epoch 36/100\n",
            "31/31 [==============================] - 0s 4ms/step - loss: 180.9918 - accuracy: 0.5518 - val_loss: 523.5864 - val_accuracy: 0.5427\n",
            "Epoch 37/100\n",
            "31/31 [==============================] - 0s 4ms/step - loss: 265.0631 - accuracy: 0.5483 - val_loss: 1002.1540 - val_accuracy: 0.5366\n",
            "Epoch 38/100\n",
            "31/31 [==============================] - 0s 4ms/step - loss: 315.6679 - accuracy: 0.5426 - val_loss: 673.0006 - val_accuracy: 0.5447\n",
            "Epoch 39/100\n",
            "31/31 [==============================] - 0s 4ms/step - loss: 216.9846 - accuracy: 0.5580 - val_loss: 470.8133 - val_accuracy: 0.4573\n",
            "Epoch 40/100\n",
            "31/31 [==============================] - 0s 4ms/step - loss: 193.6854 - accuracy: 0.5595 - val_loss: 285.5083 - val_accuracy: 0.5102\n",
            "Epoch 41/100\n",
            "31/31 [==============================] - 0s 4ms/step - loss: 379.0164 - accuracy: 0.5447 - val_loss: 710.7026 - val_accuracy: 0.5407\n",
            "Epoch 42/100\n",
            "31/31 [==============================] - 0s 4ms/step - loss: 326.7568 - accuracy: 0.5513 - val_loss: 223.4400 - val_accuracy: 0.4593\n",
            "Epoch 43/100\n",
            "31/31 [==============================] - 0s 4ms/step - loss: 162.3397 - accuracy: 0.5688 - val_loss: 273.0888 - val_accuracy: 0.5366\n",
            "Epoch 44/100\n",
            "31/31 [==============================] - 0s 4ms/step - loss: 209.6300 - accuracy: 0.5698 - val_loss: 1281.8400 - val_accuracy: 0.4675\n",
            "Epoch 45/100\n",
            "31/31 [==============================] - 0s 4ms/step - loss: 521.5594 - accuracy: 0.5462 - val_loss: 1516.1621 - val_accuracy: 0.5366\n",
            "Epoch 46/100\n",
            "31/31 [==============================] - 0s 4ms/step - loss: 327.9494 - accuracy: 0.5508 - val_loss: 265.5135 - val_accuracy: 0.5488\n",
            "Epoch 47/100\n",
            "31/31 [==============================] - 0s 4ms/step - loss: 222.0974 - accuracy: 0.5544 - val_loss: 177.4610 - val_accuracy: 0.5346\n",
            "Epoch 48/100\n",
            "31/31 [==============================] - 0s 4ms/step - loss: 127.7482 - accuracy: 0.5642 - val_loss: 279.8445 - val_accuracy: 0.5264\n",
            "Epoch 49/100\n",
            "31/31 [==============================] - 0s 4ms/step - loss: 108.6290 - accuracy: 0.5837 - val_loss: 279.1827 - val_accuracy: 0.5447\n",
            "Epoch 50/100\n",
            "31/31 [==============================] - 0s 5ms/step - loss: 233.2937 - accuracy: 0.5765 - val_loss: 227.6152 - val_accuracy: 0.5549\n",
            "Epoch 51/100\n",
            "31/31 [==============================] - 0s 4ms/step - loss: 172.1303 - accuracy: 0.5678 - val_loss: 205.9240 - val_accuracy: 0.5407\n",
            "Epoch 52/100\n",
            "31/31 [==============================] - 0s 4ms/step - loss: 148.1750 - accuracy: 0.5529 - val_loss: 144.3335 - val_accuracy: 0.4715\n",
            "Epoch 53/100\n",
            "31/31 [==============================] - 0s 4ms/step - loss: 127.7216 - accuracy: 0.5647 - val_loss: 582.3152 - val_accuracy: 0.4675\n",
            "Epoch 54/100\n",
            "31/31 [==============================] - 0s 4ms/step - loss: 178.1880 - accuracy: 0.5318 - val_loss: 1146.3987 - val_accuracy: 0.4654\n",
            "Epoch 55/100\n",
            "31/31 [==============================] - 0s 4ms/step - loss: 388.2536 - accuracy: 0.5539 - val_loss: 615.9479 - val_accuracy: 0.4675\n",
            "Epoch 56/100\n",
            "31/31 [==============================] - 0s 4ms/step - loss: 202.7338 - accuracy: 0.5534 - val_loss: 200.1788 - val_accuracy: 0.4837\n",
            "Epoch 57/100\n",
            "31/31 [==============================] - 0s 4ms/step - loss: 92.5834 - accuracy: 0.5688 - val_loss: 344.3555 - val_accuracy: 0.4675\n",
            "Epoch 58/100\n",
            "31/31 [==============================] - 0s 4ms/step - loss: 135.0994 - accuracy: 0.5416 - val_loss: 198.2213 - val_accuracy: 0.5346\n",
            "Epoch 59/100\n",
            "31/31 [==============================] - 0s 4ms/step - loss: 146.2575 - accuracy: 0.5539 - val_loss: 625.9549 - val_accuracy: 0.4654\n",
            "Epoch 60/100\n",
            "31/31 [==============================] - 0s 4ms/step - loss: 191.8171 - accuracy: 0.5565 - val_loss: 263.9626 - val_accuracy: 0.5142\n",
            "Epoch 61/100\n",
            "31/31 [==============================] - 0s 4ms/step - loss: 94.9408 - accuracy: 0.5811 - val_loss: 584.9890 - val_accuracy: 0.5427\n",
            "Epoch 62/100\n",
            "31/31 [==============================] - 0s 4ms/step - loss: 115.3824 - accuracy: 0.5672 - val_loss: 118.8345 - val_accuracy: 0.5711\n",
            "Epoch 63/100\n",
            "31/31 [==============================] - 0s 4ms/step - loss: 76.3340 - accuracy: 0.5826 - val_loss: 189.2681 - val_accuracy: 0.5447\n",
            "Epoch 64/100\n",
            "31/31 [==============================] - 0s 4ms/step - loss: 190.5584 - accuracy: 0.5508 - val_loss: 177.5925 - val_accuracy: 0.5386\n",
            "Epoch 65/100\n",
            "31/31 [==============================] - 0s 4ms/step - loss: 142.6047 - accuracy: 0.5590 - val_loss: 292.9813 - val_accuracy: 0.5407\n",
            "Epoch 66/100\n",
            "31/31 [==============================] - 0s 4ms/step - loss: 110.1587 - accuracy: 0.5801 - val_loss: 201.3846 - val_accuracy: 0.5528\n",
            "Epoch 67/100\n",
            "31/31 [==============================] - 0s 4ms/step - loss: 162.5717 - accuracy: 0.5796 - val_loss: 192.8550 - val_accuracy: 0.5528\n",
            "Epoch 68/100\n",
            "31/31 [==============================] - 0s 4ms/step - loss: 167.1602 - accuracy: 0.5775 - val_loss: 287.0802 - val_accuracy: 0.5264\n",
            "Epoch 69/100\n",
            "31/31 [==============================] - 0s 4ms/step - loss: 194.8883 - accuracy: 0.5616 - val_loss: 170.0902 - val_accuracy: 0.5285\n",
            "Epoch 70/100\n",
            "31/31 [==============================] - 0s 4ms/step - loss: 115.1958 - accuracy: 0.5626 - val_loss: 149.5513 - val_accuracy: 0.5061\n",
            "Epoch 71/100\n",
            "31/31 [==============================] - 0s 4ms/step - loss: 87.2314 - accuracy: 0.5816 - val_loss: 119.4374 - val_accuracy: 0.5244\n",
            "Epoch 72/100\n",
            "31/31 [==============================] - 0s 4ms/step - loss: 76.4506 - accuracy: 0.5862 - val_loss: 345.2688 - val_accuracy: 0.5427\n",
            "Epoch 73/100\n",
            "31/31 [==============================] - 0s 4ms/step - loss: 52.2642 - accuracy: 0.5909 - val_loss: 139.0887 - val_accuracy: 0.5386\n",
            "Epoch 74/100\n",
            "31/31 [==============================] - 0s 4ms/step - loss: 73.1113 - accuracy: 0.5950 - val_loss: 316.6507 - val_accuracy: 0.5366\n",
            "Epoch 75/100\n",
            "31/31 [==============================] - 0s 4ms/step - loss: 81.3425 - accuracy: 0.5744 - val_loss: 520.5216 - val_accuracy: 0.5346\n",
            "Epoch 76/100\n",
            "31/31 [==============================] - 0s 4ms/step - loss: 168.0709 - accuracy: 0.5626 - val_loss: 251.2973 - val_accuracy: 0.4797\n",
            "Epoch 77/100\n",
            "31/31 [==============================] - 0s 4ms/step - loss: 77.0442 - accuracy: 0.5837 - val_loss: 190.1768 - val_accuracy: 0.5407\n",
            "Epoch 78/100\n",
            "31/31 [==============================] - 0s 5ms/step - loss: 65.3932 - accuracy: 0.5934 - val_loss: 158.2506 - val_accuracy: 0.4797\n",
            "Epoch 79/100\n",
            "31/31 [==============================] - 0s 4ms/step - loss: 145.7640 - accuracy: 0.5724 - val_loss: 339.3346 - val_accuracy: 0.5407\n",
            "Epoch 80/100\n",
            "31/31 [==============================] - 0s 4ms/step - loss: 126.7909 - accuracy: 0.5821 - val_loss: 289.6082 - val_accuracy: 0.5447\n",
            "Epoch 81/100\n",
            "31/31 [==============================] - 0s 5ms/step - loss: 113.2271 - accuracy: 0.5883 - val_loss: 770.1075 - val_accuracy: 0.4675\n",
            "Epoch 82/100\n",
            "31/31 [==============================] - 0s 4ms/step - loss: 102.8302 - accuracy: 0.5842 - val_loss: 271.4931 - val_accuracy: 0.4736\n",
            "Epoch 83/100\n",
            "31/31 [==============================] - 0s 4ms/step - loss: 140.6528 - accuracy: 0.5626 - val_loss: 420.1825 - val_accuracy: 0.5366\n",
            "Epoch 84/100\n",
            "31/31 [==============================] - 0s 4ms/step - loss: 152.9900 - accuracy: 0.5688 - val_loss: 256.0106 - val_accuracy: 0.5488\n",
            "Epoch 85/100\n",
            "31/31 [==============================] - 0s 4ms/step - loss: 82.8038 - accuracy: 0.5775 - val_loss: 123.9308 - val_accuracy: 0.5061\n",
            "Epoch 86/100\n",
            "31/31 [==============================] - 0s 4ms/step - loss: 46.4251 - accuracy: 0.5873 - val_loss: 127.6295 - val_accuracy: 0.4675\n",
            "Epoch 87/100\n",
            "31/31 [==============================] - 0s 4ms/step - loss: 97.0223 - accuracy: 0.5749 - val_loss: 139.6706 - val_accuracy: 0.4492\n",
            "Epoch 88/100\n",
            "31/31 [==============================] - 0s 4ms/step - loss: 76.1577 - accuracy: 0.5811 - val_loss: 147.1044 - val_accuracy: 0.4736\n",
            "Epoch 89/100\n",
            "31/31 [==============================] - 0s 4ms/step - loss: 86.8099 - accuracy: 0.5898 - val_loss: 199.1700 - val_accuracy: 0.5346\n",
            "Epoch 90/100\n",
            "31/31 [==============================] - 0s 4ms/step - loss: 74.6232 - accuracy: 0.6006 - val_loss: 91.0261 - val_accuracy: 0.5528\n",
            "Epoch 91/100\n",
            "31/31 [==============================] - 0s 4ms/step - loss: 52.9424 - accuracy: 0.5955 - val_loss: 94.1118 - val_accuracy: 0.5427\n",
            "Epoch 92/100\n",
            "31/31 [==============================] - 0s 4ms/step - loss: 84.8090 - accuracy: 0.5878 - val_loss: 312.3895 - val_accuracy: 0.5325\n",
            "Epoch 93/100\n",
            "31/31 [==============================] - 0s 4ms/step - loss: 79.6533 - accuracy: 0.5868 - val_loss: 144.5784 - val_accuracy: 0.4654\n",
            "Epoch 94/100\n",
            "31/31 [==============================] - 0s 4ms/step - loss: 72.6244 - accuracy: 0.5919 - val_loss: 116.6423 - val_accuracy: 0.5407\n",
            "Epoch 95/100\n",
            "31/31 [==============================] - 0s 4ms/step - loss: 68.0489 - accuracy: 0.5826 - val_loss: 244.1526 - val_accuracy: 0.5346\n",
            "Epoch 96/100\n",
            "31/31 [==============================] - 0s 4ms/step - loss: 154.1148 - accuracy: 0.5580 - val_loss: 152.2048 - val_accuracy: 0.5203\n",
            "Epoch 97/100\n",
            "31/31 [==============================] - 0s 4ms/step - loss: 57.1976 - accuracy: 0.5857 - val_loss: 104.4547 - val_accuracy: 0.5061\n",
            "Epoch 98/100\n",
            "31/31 [==============================] - 0s 4ms/step - loss: 37.2288 - accuracy: 0.5965 - val_loss: 201.0794 - val_accuracy: 0.5467\n",
            "Epoch 99/100\n",
            "31/31 [==============================] - 0s 4ms/step - loss: 58.0751 - accuracy: 0.5791 - val_loss: 115.4797 - val_accuracy: 0.4614\n",
            "Epoch 100/100\n",
            "31/31 [==============================] - 0s 4ms/step - loss: 60.5028 - accuracy: 0.5734 - val_loss: 153.2213 - val_accuracy: 0.5285\n"
          ]
        }
      ]
    },
    {
      "cell_type": "code",
      "source": [
        "np.savetxt(\"dnn_val_acc_\" + str(m) + \".csv\", hist.history['val_accuracy'], delimiter=',')\n",
        "np.savetxt(\"dnn_acc_\" + str(m) + \".csv\", hist.history['accuracy'], delimiter=',')\n"
      ],
      "metadata": {
        "id": "73aj5Yjw2pzo"
      },
      "execution_count": null,
      "outputs": []
    },
    {
      "cell_type": "code",
      "source": [
        "# Evaluate the model on the test data using `evaluate`\n",
        "print(\"Evaluate on test data\")\n",
        "results = model.evaluate(test_x_np, test_y_np)\n",
        "print(\"test loss, test acc:\", results)"
      ],
      "metadata": {
        "colab": {
          "base_uri": "https://localhost:8080/"
        },
        "id": "-2ygOcAcv8wM",
        "outputId": "d0082360-1751-4192-b6e1-a36a1b9cfdb5"
      },
      "execution_count": null,
      "outputs": [
        {
          "output_type": "stream",
          "name": "stdout",
          "text": [
            "Evaluate on test data\n",
            "16/16 [==============================] - 0s 3ms/step - loss: 153.2214 - accuracy: 0.5285\n",
            "test loss, test acc: [153.2213592529297, 0.5284552574157715]\n"
          ]
        }
      ]
    },
    {
      "cell_type": "code",
      "source": [
        "#Create profitability bot: \n",
        "tested_vals = []\n",
        "num_tests = 5\n",
        "\n",
        "for j in range(num_tests):\n",
        "  val = 10000\n",
        "  correct = 0\n",
        "  incorrect = 0\n",
        "  rows, columns, num_features = test_x_np.shape\n",
        "  predicted_buy = 0\n",
        "  print('rows =' + str(rows))\n",
        "  for i in range(rows):\n",
        "    rand_index = random.randint(0, rows -1)\n",
        "    i = rand_index\n",
        "    bet = val * .05\n",
        "    sample = np.array(test_x_np[i])\n",
        "    sample = np.reshape(sample,(1,columns,num_features))\n",
        "    true_y = test_y_np[i]\n",
        "    prediction = model.predict(sample)\n",
        "    #print(prediction)\n",
        "    predicted_binary = 1 if prediction > 0.5 else 0\n",
        "    if predicted_binary == 1: \n",
        "      predicted_buy = predicted_buy + 1\n",
        "    pred_correct = 1 if predicted_binary == true_y else 0\n",
        "    if pred_correct == 1:\n",
        "      correct = correct + 1\n",
        "      val = val + bet\n",
        "\n",
        "    else: \n",
        "      incorrect = incorrect + 1\n",
        "      val = val - bet\n",
        "  print(predicted_buy)\n",
        "  tested_vals.append(val)\n",
        "\n"
      ],
      "metadata": {
        "colab": {
          "base_uri": "https://localhost:8080/"
        },
        "id": "j0Raas6cI_hl",
        "outputId": "ae6afc98-fb32-4ad4-dcd0-3a61146f66ff"
      },
      "execution_count": null,
      "outputs": [
        {
          "output_type": "stream",
          "name": "stdout",
          "text": [
            "rows =492\n",
            "438\n",
            "rows =492\n",
            "416\n",
            "rows =492\n",
            "427\n",
            "rows =492\n",
            "424\n",
            "rows =492\n",
            "430\n"
          ]
        }
      ]
    },
    {
      "cell_type": "code",
      "source": [
        "print(len(test_x_np))\n",
        "print(correct / (correct + incorrect))"
      ],
      "metadata": {
        "id": "MrQuwb6oNEs2",
        "colab": {
          "base_uri": "https://localhost:8080/"
        },
        "outputId": "aff61906-8a1c-443d-fe31-6d456c883fb6"
      },
      "execution_count": null,
      "outputs": [
        {
          "output_type": "stream",
          "name": "stdout",
          "text": [
            "492\n",
            "0.5467479674796748\n"
          ]
        }
      ]
    },
    {
      "cell_type": "code",
      "source": [
        "from statistics import mean\n",
        "print(tested_vals)\n",
        "print(\"average ending investment: \")\n",
        "print(mean(tested_vals))"
      ],
      "metadata": {
        "id": "uMubMThFJgmS",
        "colab": {
          "base_uri": "https://localhost:8080/"
        },
        "outputId": "4beab195-82e1-411a-b100-553aaf1189b7"
      },
      "execution_count": null,
      "outputs": [
        {
          "output_type": "stream",
          "name": "stdout",
          "text": [
            "[32730.825619736643, 65950.30627898283, 9848.467020926602, 179421.19901406486, 53986.531897307774]\n",
            "average ending investment: \n",
            "68387.46596620374\n"
          ]
        }
      ]
    },
    {
      "cell_type": "code",
      "source": [
        "#baseline profitability bot: \n",
        "tested_vals = []\n",
        "num_tests = 5\n",
        "print()\n",
        "for j in range(num_tests):\n",
        "  val = 10000\n",
        "  correct = 0\n",
        "  incorrect = 0\n",
        "  rows, columns, num_features = test_x_np.shape\n",
        "  predicted_buy = 0\n",
        "  for i in range(rows):\n",
        "    bet = val * .05\n",
        "    true_y = test_y_np[i]\n",
        "    predicted_binary = random.randint(0, 1)\n",
        "    if predicted_binary == 1: \n",
        "      predicted_buy = predicted_buy + 1\n",
        "    pred_correct = 1 if predicted_binary == true_y else 0\n",
        "    if pred_correct == 1:\n",
        "      correct = correct + 1\n",
        "      val = val + bet\n",
        "\n",
        "    else: \n",
        "      incorrect = incorrect + 1\n",
        "      val = val - bet\n",
        "  tested_vals.append(val)"
      ],
      "metadata": {
        "id": "9fKP_DG0rcPz",
        "colab": {
          "base_uri": "https://localhost:8080/"
        },
        "outputId": "1ec02988-84dc-45db-9617-6ba9a0b5588a"
      },
      "execution_count": null,
      "outputs": [
        {
          "output_type": "stream",
          "name": "stdout",
          "text": [
            "\n"
          ]
        }
      ]
    },
    {
      "cell_type": "code",
      "source": [
        "print(tested_vals)\n",
        "print(\"average ending investment: \")\n",
        "print(mean(tested_vals))"
      ],
      "metadata": {
        "id": "57edeo3krrvc",
        "colab": {
          "base_uri": "https://localhost:8080/"
        },
        "outputId": "1e87e922-db5a-478d-9ddf-95811abdb542"
      },
      "execution_count": null,
      "outputs": [
        {
          "output_type": "stream",
          "name": "stdout",
          "text": [
            "[9848.467020926615, 5402.247438693628, 4422.247903329702, 12030.95278733695, 3275.261674650525]\n",
            "average ending investment: \n",
            "6995.835364987484\n"
          ]
        }
      ]
    },
    {
      "cell_type": "code",
      "source": [
        "print(test_buy)"
      ],
      "metadata": {
        "id": "otoN4CabsO3I"
      },
      "execution_count": null,
      "outputs": []
    }
  ]
}